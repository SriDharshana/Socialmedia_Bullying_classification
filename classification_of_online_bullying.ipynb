{
  "cells": [
    {
      "cell_type": "markdown",
      "metadata": {
        "id": "view-in-github",
        "colab_type": "text"
      },
      "source": [
        "<a href=\"https://colab.research.google.com/github/SriDharshana/Socialmedia_Bullying_classification/blob/main/classification_of_online_bullying.ipynb\" target=\"_parent\"><img src=\"https://colab.research.google.com/assets/colab-badge.svg\" alt=\"Open In Colab\"/></a>"
      ]
    },
    {
      "cell_type": "code",
      "execution_count": 32,
      "metadata": {
        "id": "24lNYtSbjRE3"
      },
      "outputs": [],
      "source": [
        "import numpy as np\n",
        "import pandas as pd\n",
        "import seaborn as sns\n",
        "import random\n",
        "import matplotlib.pyplot as plt\n",
        "from sklearn.preprocessing import LabelEncoder"
      ]
    },
    {
      "cell_type": "code",
      "execution_count": 14,
      "metadata": {
        "id": "s53OFPeljQ1m"
      },
      "outputs": [],
      "source": [
        "df = pd.read_csv('/content/cyberbullying_tweets.csv')"
      ]
    },
    {
      "cell_type": "code",
      "execution_count": 15,
      "metadata": {
        "colab": {
          "base_uri": "https://localhost:8080/",
          "height": 237
        },
        "id": "y2YyaCGrjQwZ",
        "outputId": "eb32fa9e-d54d-479d-87e9-ccb10a8b9b03"
      },
      "outputs": [
        {
          "output_type": "execute_result",
          "data": {
            "text/plain": [
              "                                              tweet_text   cyberbullying_type\n",
              "47309  I just want to say one thing some loosers stop...            ethnicity\n",
              "5890   @VinCastronovo Vinny can I get a GRANDnight pl...    not_cyberbullying\n",
              "15880  @nat_com1 @Feminazi_Front Equanimity means cal...               gender\n",
              "27688  this isn't just gamergate this isn't just game...  other_cyberbullying\n",
              "27919  Throwback to when vivek offered to show me aro...  other_cyberbullying\n",
              "6177             @eliza_sharp cus it goes from a to z ;)    not_cyberbullying"
            ],
            "text/html": [
              "\n",
              "  <div id=\"df-6a966683-1100-4241-b120-8e6fe58f0f79\">\n",
              "    <div class=\"colab-df-container\">\n",
              "      <div>\n",
              "<style scoped>\n",
              "    .dataframe tbody tr th:only-of-type {\n",
              "        vertical-align: middle;\n",
              "    }\n",
              "\n",
              "    .dataframe tbody tr th {\n",
              "        vertical-align: top;\n",
              "    }\n",
              "\n",
              "    .dataframe thead th {\n",
              "        text-align: right;\n",
              "    }\n",
              "</style>\n",
              "<table border=\"1\" class=\"dataframe\">\n",
              "  <thead>\n",
              "    <tr style=\"text-align: right;\">\n",
              "      <th></th>\n",
              "      <th>tweet_text</th>\n",
              "      <th>cyberbullying_type</th>\n",
              "    </tr>\n",
              "  </thead>\n",
              "  <tbody>\n",
              "    <tr>\n",
              "      <th>47309</th>\n",
              "      <td>I just want to say one thing some loosers stop...</td>\n",
              "      <td>ethnicity</td>\n",
              "    </tr>\n",
              "    <tr>\n",
              "      <th>5890</th>\n",
              "      <td>@VinCastronovo Vinny can I get a GRANDnight pl...</td>\n",
              "      <td>not_cyberbullying</td>\n",
              "    </tr>\n",
              "    <tr>\n",
              "      <th>15880</th>\n",
              "      <td>@nat_com1 @Feminazi_Front Equanimity means cal...</td>\n",
              "      <td>gender</td>\n",
              "    </tr>\n",
              "    <tr>\n",
              "      <th>27688</th>\n",
              "      <td>this isn't just gamergate this isn't just game...</td>\n",
              "      <td>other_cyberbullying</td>\n",
              "    </tr>\n",
              "    <tr>\n",
              "      <th>27919</th>\n",
              "      <td>Throwback to when vivek offered to show me aro...</td>\n",
              "      <td>other_cyberbullying</td>\n",
              "    </tr>\n",
              "    <tr>\n",
              "      <th>6177</th>\n",
              "      <td>@eliza_sharp cus it goes from a to z ;)</td>\n",
              "      <td>not_cyberbullying</td>\n",
              "    </tr>\n",
              "  </tbody>\n",
              "</table>\n",
              "</div>\n",
              "      <button class=\"colab-df-convert\" onclick=\"convertToInteractive('df-6a966683-1100-4241-b120-8e6fe58f0f79')\"\n",
              "              title=\"Convert this dataframe to an interactive table.\"\n",
              "              style=\"display:none;\">\n",
              "        \n",
              "  <svg xmlns=\"http://www.w3.org/2000/svg\" height=\"24px\"viewBox=\"0 0 24 24\"\n",
              "       width=\"24px\">\n",
              "    <path d=\"M0 0h24v24H0V0z\" fill=\"none\"/>\n",
              "    <path d=\"M18.56 5.44l.94 2.06.94-2.06 2.06-.94-2.06-.94-.94-2.06-.94 2.06-2.06.94zm-11 1L8.5 8.5l.94-2.06 2.06-.94-2.06-.94L8.5 2.5l-.94 2.06-2.06.94zm10 10l.94 2.06.94-2.06 2.06-.94-2.06-.94-.94-2.06-.94 2.06-2.06.94z\"/><path d=\"M17.41 7.96l-1.37-1.37c-.4-.4-.92-.59-1.43-.59-.52 0-1.04.2-1.43.59L10.3 9.45l-7.72 7.72c-.78.78-.78 2.05 0 2.83L4 21.41c.39.39.9.59 1.41.59.51 0 1.02-.2 1.41-.59l7.78-7.78 2.81-2.81c.8-.78.8-2.07 0-2.86zM5.41 20L4 18.59l7.72-7.72 1.47 1.35L5.41 20z\"/>\n",
              "  </svg>\n",
              "      </button>\n",
              "      \n",
              "  <style>\n",
              "    .colab-df-container {\n",
              "      display:flex;\n",
              "      flex-wrap:wrap;\n",
              "      gap: 12px;\n",
              "    }\n",
              "\n",
              "    .colab-df-convert {\n",
              "      background-color: #E8F0FE;\n",
              "      border: none;\n",
              "      border-radius: 50%;\n",
              "      cursor: pointer;\n",
              "      display: none;\n",
              "      fill: #1967D2;\n",
              "      height: 32px;\n",
              "      padding: 0 0 0 0;\n",
              "      width: 32px;\n",
              "    }\n",
              "\n",
              "    .colab-df-convert:hover {\n",
              "      background-color: #E2EBFA;\n",
              "      box-shadow: 0px 1px 2px rgba(60, 64, 67, 0.3), 0px 1px 3px 1px rgba(60, 64, 67, 0.15);\n",
              "      fill: #174EA6;\n",
              "    }\n",
              "\n",
              "    [theme=dark] .colab-df-convert {\n",
              "      background-color: #3B4455;\n",
              "      fill: #D2E3FC;\n",
              "    }\n",
              "\n",
              "    [theme=dark] .colab-df-convert:hover {\n",
              "      background-color: #434B5C;\n",
              "      box-shadow: 0px 1px 3px 1px rgba(0, 0, 0, 0.15);\n",
              "      filter: drop-shadow(0px 1px 2px rgba(0, 0, 0, 0.3));\n",
              "      fill: #FFFFFF;\n",
              "    }\n",
              "  </style>\n",
              "\n",
              "      <script>\n",
              "        const buttonEl =\n",
              "          document.querySelector('#df-6a966683-1100-4241-b120-8e6fe58f0f79 button.colab-df-convert');\n",
              "        buttonEl.style.display =\n",
              "          google.colab.kernel.accessAllowed ? 'block' : 'none';\n",
              "\n",
              "        async function convertToInteractive(key) {\n",
              "          const element = document.querySelector('#df-6a966683-1100-4241-b120-8e6fe58f0f79');\n",
              "          const dataTable =\n",
              "            await google.colab.kernel.invokeFunction('convertToInteractive',\n",
              "                                                     [key], {});\n",
              "          if (!dataTable) return;\n",
              "\n",
              "          const docLinkHtml = 'Like what you see? Visit the ' +\n",
              "            '<a target=\"_blank\" href=https://colab.research.google.com/notebooks/data_table.ipynb>data table notebook</a>'\n",
              "            + ' to learn more about interactive tables.';\n",
              "          element.innerHTML = '';\n",
              "          dataTable['output_type'] = 'display_data';\n",
              "          await google.colab.output.renderOutput(dataTable, element);\n",
              "          const docLink = document.createElement('div');\n",
              "          docLink.innerHTML = docLinkHtml;\n",
              "          element.appendChild(docLink);\n",
              "        }\n",
              "      </script>\n",
              "    </div>\n",
              "  </div>\n",
              "  "
            ]
          },
          "metadata": {},
          "execution_count": 15
        }
      ],
      "source": [
        "k = pd.DataFrame(df)\n",
        "k.sample(n=6)\n"
      ]
    },
    {
      "cell_type": "code",
      "execution_count": 5,
      "metadata": {
        "id": "BFlJYfSLjQmk",
        "colab": {
          "base_uri": "https://localhost:8080/"
        },
        "outputId": "5723e5a6-60d0-43a7-ac54-244d5f7aa09f"
      },
      "outputs": [
        {
          "output_type": "stream",
          "name": "stdout",
          "text": [
            "Looking in indexes: https://pypi.org/simple, https://us-python.pkg.dev/colab-wheels/public/simple/\n",
            "Collecting demoji\n",
            "  Downloading demoji-1.1.0-py3-none-any.whl (42 kB)\n",
            "\u001b[K     |████████████████████████████████| 42 kB 1.5 MB/s \n",
            "\u001b[?25hInstalling collected packages: demoji\n",
            "Successfully installed demoji-1.1.0\n"
          ]
        }
      ],
      "source": [
        "!pip install demoji"
      ]
    },
    {
      "cell_type": "code",
      "execution_count": 16,
      "metadata": {
        "id": "EFniKw5DjQdX"
      },
      "outputs": [],
      "source": [
        "import re \n",
        "from nltk.corpus import stopwords\n",
        "from nltk.stem.snowball import SnowballStemmer\n",
        "import demoji\n",
        "import string"
      ]
    },
    {
      "cell_type": "code",
      "execution_count": 17,
      "metadata": {
        "id": "bBF1aMoHjQXP",
        "colab": {
          "base_uri": "https://localhost:8080/"
        },
        "outputId": "f9bd8c77-3398-49c0-ce19-fb8ef0cd37cd"
      },
      "outputs": [
        {
          "output_type": "stream",
          "name": "stderr",
          "text": [
            "[nltk_data] Downloading package stopwords to /root/nltk_data...\n",
            "[nltk_data]   Package stopwords is already up-to-date!\n"
          ]
        },
        {
          "output_type": "execute_result",
          "data": {
            "text/plain": [
              "True"
            ]
          },
          "metadata": {},
          "execution_count": 17
        }
      ],
      "source": [
        "import nltk\n",
        "nltk.download('stopwords')"
      ]
    },
    {
      "cell_type": "markdown",
      "source": [
        "PREPROCESSING"
      ],
      "metadata": {
        "id": "gqQkH5_ZfTbo"
      }
    },
    {
      "cell_type": "code",
      "execution_count": 18,
      "metadata": {
        "id": "K653iJ7UjQQ3",
        "colab": {
          "base_uri": "https://localhost:8080/"
        },
        "outputId": "66c44e96-5c7a-49c0-89f5-e6a10d8a496b"
      },
      "outputs": [
        {
          "output_type": "execute_result",
          "data": {
            "text/plain": [
              "cyberbullying_type   cyberbullying_type_encoded\n",
              "religion             5                             7998\n",
              "age                  0                             7992\n",
              "gender               2                             7973\n",
              "ethnicity            1                             7961\n",
              "not_cyberbullying    3                             7945\n",
              "other_cyberbullying  4                             7823\n",
              "dtype: int64"
            ]
          },
          "metadata": {},
          "execution_count": 18
        }
      ],
      "source": [
        "labelencoder = LabelEncoder()\n",
        "df['cyberbullying_type_encoded'] = labelencoder.fit_transform(df['cyberbullying_type'])\n",
        "df[['cyberbullying_type', 'cyberbullying_type_encoded']].value_counts()"
      ]
    },
    {
      "cell_type": "code",
      "execution_count": 19,
      "metadata": {
        "id": "PKhl8GvIjQLY"
      },
      "outputs": [],
      "source": [
        "STOPWORDS = set(stopwords.words('english'))\n",
        "STOPWORDS.update(['rt', 'mkr', 'didn', 'bc', 'n', 'm', \n",
        "                  'im', 'll', 'y', 've', 'u', 'ur', 'don', \n",
        "                  'p', 't', 's', 'aren', 'kp', 'o', 'kat', \n",
        "                  'de', 're', 'amp', 'will', 'wa', 'e', 'like'])\n",
        "stemmer = SnowballStemmer('english')\n",
        "def clean_text(text):\n",
        "    \n",
        "    # Remove Hashtag, Mention\n",
        "    pattern = re.compile(r\"(#[A-Za-z0-9]+|@[A-Za-z0-9]+|\\S+\\.[a-z]+|RT @)\")\n",
        "    text = pattern.sub('', text)\n",
        "    text = \" \".join(text.split())\n",
        "    \n",
        "    # Make all text lowercase\n",
        "    text = text.lower()\n",
        "\n",
        "    # Stemming\n",
        "    text = \" \".join([stemmer.stem(word) for word in text.split()])\n",
        "\n",
        "    #Remove URL's\n",
        "    text= re.sub(r\"((www.[^s]+)|(http\\S+))\",\"\",text)\n",
        "    \n",
        "    # Removing Punctuations\n",
        "    remove_punc = re.compile(r\"[%s]\" % re.escape(string.punctuation))\n",
        "    text = remove_punc.sub('', text)\n",
        "    \n",
        "    # Removing stopwords\n",
        "    text = \" \".join([word for word in str(text).split() if word not in STOPWORDS])\n",
        "    \n",
        "    # Taking care of emojis\n",
        "    emoji = demoji.findall(text)\n",
        "    for emot in emoji:\n",
        "        text = re.sub(r\"(%s)\" % (emot), \"_\".join(emoji[emot].split()), text)\n",
        "\n",
        "    return text\n"
      ]
    },
    {
      "cell_type": "code",
      "execution_count": 43,
      "metadata": {
        "id": "_R8pVpOwjQB1",
        "colab": {
          "base_uri": "https://localhost:8080/",
          "height": 507
        },
        "outputId": "3901a8e5-e95f-40ff-9717-9b60515696bd"
      },
      "outputs": [
        {
          "output_type": "execute_result",
          "data": {
            "text/plain": [
              "                                              tweet_text   cyberbullying_type  \\\n",
              "8854             @DaftBrian Is that what #AskHerMore is?               gender   \n",
              "15899                                  Offal and marrow?               gender   \n",
              "11945  I tried watching Ohshc but I despised it after...               gender   \n",
              "36617        Morrison really looks like the school bully                  age   \n",
              "3830                                          @AntonM ☺️    not_cyberbullying   \n",
              "25772  @ikralla @MattFossen I run on autoit in the ba...  other_cyberbullying   \n",
              "\n",
              "       cyberbullying_type_encoded  \\\n",
              "8854                            2   \n",
              "15899                           2   \n",
              "11945                           2   \n",
              "36617                           0   \n",
              "3830                            3   \n",
              "25772                           4   \n",
              "\n",
              "                                            cleaned_text  \n",
              "8854                                                      \n",
              "15899                                       offal marrow  \n",
              "11945  tri watch ohshc despis 9 episodes sexist kinda...  \n",
              "36617                  morrison realli look school bulli  \n",
              "3830                                        smiling_face  \n",
              "25772  run autoit background becaus clickerheroes mig...  "
            ],
            "text/html": [
              "\n",
              "  <div id=\"df-0ee8d213-59ea-4030-812e-0d3f7a3c93cc\">\n",
              "    <div class=\"colab-df-container\">\n",
              "      <div>\n",
              "<style scoped>\n",
              "    .dataframe tbody tr th:only-of-type {\n",
              "        vertical-align: middle;\n",
              "    }\n",
              "\n",
              "    .dataframe tbody tr th {\n",
              "        vertical-align: top;\n",
              "    }\n",
              "\n",
              "    .dataframe thead th {\n",
              "        text-align: right;\n",
              "    }\n",
              "</style>\n",
              "<table border=\"1\" class=\"dataframe\">\n",
              "  <thead>\n",
              "    <tr style=\"text-align: right;\">\n",
              "      <th></th>\n",
              "      <th>tweet_text</th>\n",
              "      <th>cyberbullying_type</th>\n",
              "      <th>cyberbullying_type_encoded</th>\n",
              "      <th>cleaned_text</th>\n",
              "    </tr>\n",
              "  </thead>\n",
              "  <tbody>\n",
              "    <tr>\n",
              "      <th>8854</th>\n",
              "      <td>@DaftBrian Is that what #AskHerMore is?</td>\n",
              "      <td>gender</td>\n",
              "      <td>2</td>\n",
              "      <td></td>\n",
              "    </tr>\n",
              "    <tr>\n",
              "      <th>15899</th>\n",
              "      <td>Offal and marrow?</td>\n",
              "      <td>gender</td>\n",
              "      <td>2</td>\n",
              "      <td>offal marrow</td>\n",
              "    </tr>\n",
              "    <tr>\n",
              "      <th>11945</th>\n",
              "      <td>I tried watching Ohshc but I despised it after...</td>\n",
              "      <td>gender</td>\n",
              "      <td>2</td>\n",
              "      <td>tri watch ohshc despis 9 episodes sexist kinda...</td>\n",
              "    </tr>\n",
              "    <tr>\n",
              "      <th>36617</th>\n",
              "      <td>Morrison really looks like the school bully</td>\n",
              "      <td>age</td>\n",
              "      <td>0</td>\n",
              "      <td>morrison realli look school bulli</td>\n",
              "    </tr>\n",
              "    <tr>\n",
              "      <th>3830</th>\n",
              "      <td>@AntonM ☺️</td>\n",
              "      <td>not_cyberbullying</td>\n",
              "      <td>3</td>\n",
              "      <td>smiling_face</td>\n",
              "    </tr>\n",
              "    <tr>\n",
              "      <th>25772</th>\n",
              "      <td>@ikralla @MattFossen I run on autoit in the ba...</td>\n",
              "      <td>other_cyberbullying</td>\n",
              "      <td>4</td>\n",
              "      <td>run autoit background becaus clickerheroes mig...</td>\n",
              "    </tr>\n",
              "  </tbody>\n",
              "</table>\n",
              "</div>\n",
              "      <button class=\"colab-df-convert\" onclick=\"convertToInteractive('df-0ee8d213-59ea-4030-812e-0d3f7a3c93cc')\"\n",
              "              title=\"Convert this dataframe to an interactive table.\"\n",
              "              style=\"display:none;\">\n",
              "        \n",
              "  <svg xmlns=\"http://www.w3.org/2000/svg\" height=\"24px\"viewBox=\"0 0 24 24\"\n",
              "       width=\"24px\">\n",
              "    <path d=\"M0 0h24v24H0V0z\" fill=\"none\"/>\n",
              "    <path d=\"M18.56 5.44l.94 2.06.94-2.06 2.06-.94-2.06-.94-.94-2.06-.94 2.06-2.06.94zm-11 1L8.5 8.5l.94-2.06 2.06-.94-2.06-.94L8.5 2.5l-.94 2.06-2.06.94zm10 10l.94 2.06.94-2.06 2.06-.94-2.06-.94-.94-2.06-.94 2.06-2.06.94z\"/><path d=\"M17.41 7.96l-1.37-1.37c-.4-.4-.92-.59-1.43-.59-.52 0-1.04.2-1.43.59L10.3 9.45l-7.72 7.72c-.78.78-.78 2.05 0 2.83L4 21.41c.39.39.9.59 1.41.59.51 0 1.02-.2 1.41-.59l7.78-7.78 2.81-2.81c.8-.78.8-2.07 0-2.86zM5.41 20L4 18.59l7.72-7.72 1.47 1.35L5.41 20z\"/>\n",
              "  </svg>\n",
              "      </button>\n",
              "      \n",
              "  <style>\n",
              "    .colab-df-container {\n",
              "      display:flex;\n",
              "      flex-wrap:wrap;\n",
              "      gap: 12px;\n",
              "    }\n",
              "\n",
              "    .colab-df-convert {\n",
              "      background-color: #E8F0FE;\n",
              "      border: none;\n",
              "      border-radius: 50%;\n",
              "      cursor: pointer;\n",
              "      display: none;\n",
              "      fill: #1967D2;\n",
              "      height: 32px;\n",
              "      padding: 0 0 0 0;\n",
              "      width: 32px;\n",
              "    }\n",
              "\n",
              "    .colab-df-convert:hover {\n",
              "      background-color: #E2EBFA;\n",
              "      box-shadow: 0px 1px 2px rgba(60, 64, 67, 0.3), 0px 1px 3px 1px rgba(60, 64, 67, 0.15);\n",
              "      fill: #174EA6;\n",
              "    }\n",
              "\n",
              "    [theme=dark] .colab-df-convert {\n",
              "      background-color: #3B4455;\n",
              "      fill: #D2E3FC;\n",
              "    }\n",
              "\n",
              "    [theme=dark] .colab-df-convert:hover {\n",
              "      background-color: #434B5C;\n",
              "      box-shadow: 0px 1px 3px 1px rgba(0, 0, 0, 0.15);\n",
              "      filter: drop-shadow(0px 1px 2px rgba(0, 0, 0, 0.3));\n",
              "      fill: #FFFFFF;\n",
              "    }\n",
              "  </style>\n",
              "\n",
              "      <script>\n",
              "        const buttonEl =\n",
              "          document.querySelector('#df-0ee8d213-59ea-4030-812e-0d3f7a3c93cc button.colab-df-convert');\n",
              "        buttonEl.style.display =\n",
              "          google.colab.kernel.accessAllowed ? 'block' : 'none';\n",
              "\n",
              "        async function convertToInteractive(key) {\n",
              "          const element = document.querySelector('#df-0ee8d213-59ea-4030-812e-0d3f7a3c93cc');\n",
              "          const dataTable =\n",
              "            await google.colab.kernel.invokeFunction('convertToInteractive',\n",
              "                                                     [key], {});\n",
              "          if (!dataTable) return;\n",
              "\n",
              "          const docLinkHtml = 'Like what you see? Visit the ' +\n",
              "            '<a target=\"_blank\" href=https://colab.research.google.com/notebooks/data_table.ipynb>data table notebook</a>'\n",
              "            + ' to learn more about interactive tables.';\n",
              "          element.innerHTML = '';\n",
              "          dataTable['output_type'] = 'display_data';\n",
              "          await google.colab.output.renderOutput(dataTable, element);\n",
              "          const docLink = document.createElement('div');\n",
              "          docLink.innerHTML = docLinkHtml;\n",
              "          element.appendChild(docLink);\n",
              "        }\n",
              "      </script>\n",
              "    </div>\n",
              "  </div>\n",
              "  "
            ]
          },
          "metadata": {},
          "execution_count": 43
        }
      ],
      "source": [
        "def preprocess(text):\n",
        "    df['cleaned_text'] = df['tweet_text'].apply(lambda text: clean_text(text))  \n",
        "    return text\n",
        "\n",
        "df['tweet_text'] = preprocess(df['tweet_text'])\n",
        "df.sample(n=6)"
      ]
    },
    {
      "cell_type": "code",
      "execution_count": 44,
      "metadata": {
        "id": "t-GvHtmWjP76",
        "colab": {
          "base_uri": "https://localhost:8080/"
        },
        "outputId": "6dd7bf6c-6204-49c5-d53a-ee5d66088aa6"
      },
      "outputs": [
        {
          "output_type": "execute_result",
          "data": {
            "text/plain": [
              "2375"
            ]
          },
          "metadata": {},
          "execution_count": 44
        }
      ],
      "source": [
        "df['cleaned_text'].duplicated().sum()"
      ]
    },
    {
      "cell_type": "code",
      "source": [
        "from sklearn.model_selection import train_test_split\n",
        "from sklearn.feature_extraction.text import TfidfVectorizer"
      ],
      "metadata": {
        "id": "cPeWvhMWWfJ8"
      },
      "execution_count": 45,
      "outputs": []
    },
    {
      "cell_type": "code",
      "source": [
        "X, y = df['tweet_text'], df['cyberbullying_type']\n"
      ],
      "metadata": {
        "id": "Twi0UZOAWfMV"
      },
      "execution_count": 46,
      "outputs": []
    },
    {
      "cell_type": "code",
      "source": [
        "X_train, X_test, y_train, y_test = train_test_split(X, y, test_size = 0.3, random_state = 60)\n"
      ],
      "metadata": {
        "id": "37inmVJcWfOn"
      },
      "execution_count": 47,
      "outputs": []
    },
    {
      "cell_type": "code",
      "source": [
        "tfidf = TfidfVectorizer(max_features = 5000)"
      ],
      "metadata": {
        "id": "6bSS0O6lWfQ3"
      },
      "execution_count": 48,
      "outputs": []
    },
    {
      "cell_type": "code",
      "source": [
        "X_train_tfidf = tfidf.fit_transform(X_train) \n",
        "X_test_tfidf = tfidf.transform(X_test) "
      ],
      "metadata": {
        "id": "dOHN6oGAWfTS"
      },
      "execution_count": 49,
      "outputs": []
    },
    {
      "cell_type": "code",
      "source": [
        "from sklearn.preprocessing import StandardScaler\n",
        "scaler = StandardScaler()\n",
        "tfidf_array_train = X_train_tfidf.toarray()   \n",
        "tfidf_array_test = X_test_tfidf.toarray()    \n",
        "scaled_X_train = scaler.fit_transform(tfidf_array_train) \n",
        "scaled_X_test = scaler.transform(tfidf_array_test)"
      ],
      "metadata": {
        "id": "wgCWp2xDWfWC"
      },
      "execution_count": 50,
      "outputs": []
    },
    {
      "cell_type": "code",
      "source": [
        "scaled_X_train.shape"
      ],
      "metadata": {
        "colab": {
          "base_uri": "https://localhost:8080/"
        },
        "id": "5IJrQVh8WfYo",
        "outputId": "d0b7eaeb-a5b0-42a9-c839-6631a8efb3fe"
      },
      "execution_count": 51,
      "outputs": [
        {
          "output_type": "execute_result",
          "data": {
            "text/plain": [
              "(33384, 5000)"
            ]
          },
          "metadata": {},
          "execution_count": 51
        }
      ]
    },
    {
      "cell_type": "code",
      "source": [
        "from sklearn.metrics import plot_confusion_matrix, accuracy_score"
      ],
      "metadata": {
        "id": "0GpJPY86Wfb-"
      },
      "execution_count": 52,
      "outputs": []
    },
    {
      "cell_type": "markdown",
      "source": [
        "NAIVE - BAYES"
      ],
      "metadata": {
        "id": "1JtPiguUXMfo"
      }
    },
    {
      "cell_type": "code",
      "execution_count": 53,
      "metadata": {
        "id": "CzVM1WC-jLva"
      },
      "outputs": [],
      "source": [
        "from sklearn.naive_bayes import MultinomialNB\n",
        "nb_model = MultinomialNB()"
      ]
    },
    {
      "cell_type": "markdown",
      "source": [
        "FITTING THE MODEL"
      ],
      "metadata": {
        "id": "D_VTLnI6XQ9M"
      }
    },
    {
      "cell_type": "code",
      "execution_count": 54,
      "metadata": {
        "id": "XT6GbTGqexfI"
      },
      "outputs": [],
      "source": [
        "Naive_bayes_model=nb_model.fit(X_train_tfidf, y_train)"
      ]
    },
    {
      "cell_type": "markdown",
      "source": [
        "ACCURACY"
      ],
      "metadata": {
        "id": "Oy1gbj27XfGc"
      }
    },
    {
      "cell_type": "code",
      "source": [
        "preds_nb_model = nb_model.predict(X_test_tfidf)\n",
        "plot_confusion_matrix(nb_model, X_test_tfidf, y_test)"
      ],
      "metadata": {
        "colab": {
          "base_uri": "https://localhost:8080/",
          "height": 352
        },
        "id": "TQBdJhrFXN0v",
        "outputId": "a7db427b-3f84-4e1e-80af-cccbc8635294"
      },
      "execution_count": 55,
      "outputs": [
        {
          "output_type": "stream",
          "name": "stderr",
          "text": [
            "/usr/local/lib/python3.8/dist-packages/sklearn/utils/deprecation.py:87: FutureWarning: Function plot_confusion_matrix is deprecated; Function `plot_confusion_matrix` is deprecated in 1.0 and will be removed in 1.2. Use one of the class methods: ConfusionMatrixDisplay.from_predictions or ConfusionMatrixDisplay.from_estimator.\n",
            "  warnings.warn(msg, category=FutureWarning)\n"
          ]
        },
        {
          "output_type": "execute_result",
          "data": {
            "text/plain": [
              "<sklearn.metrics._plot.confusion_matrix.ConfusionMatrixDisplay at 0x7f35d8e18a60>"
            ]
          },
          "metadata": {},
          "execution_count": 55
        },
        {
          "output_type": "display_data",
          "data": {
            "text/plain": [
              "<Figure size 432x288 with 2 Axes>"
            ],
            "image/png": "[encoded data removed]"
          },
          "metadata": {
            "needs_background": "light"
          }
        }
      ]
    },
    {
      "cell_type": "code",
      "source": [
        "print(\"Accuracy : \",accuracy_score(y_test, preds_nb_model))"
      ],
      "metadata": {
        "colab": {
          "base_uri": "https://localhost:8080/"
        },
        "id": "npxrJdWWXN3G",
        "outputId": "04d2cdb5-a915-4798-80b0-3e9ac9e3f2e6"
      },
      "execution_count": 58,
      "outputs": [
        {
          "output_type": "stream",
          "name": "stdout",
          "text": [
            "Accuracy : 0.89364253471814\n"
          ]
        }
      ]
    },
    {
      "cell_type": "markdown",
      "source": [],
      "metadata": {
        "id": "SYJF0bRoXgXg"
      }
    },
    {
      "cell_type": "code",
      "source": [
        "from sklearn.pipeline import Pipeline\n",
        "pipe = Pipeline([('tfidf', TfidfVectorizer(max_features = 1000)), ('NAIVE BAYES MODEL', MultinomialNB())])\n",
        "pipe.fit(X, y)"
      ],
      "metadata": {
        "colab": {
          "base_uri": "https://localhost:8080/"
        },
        "id": "z87ekjAbXN70",
        "outputId": "5559ac9d-bf1a-43a9-f6a6-0953ec75265d"
      },
      "execution_count": 59,
      "outputs": [
        {
          "output_type": "execute_result",
          "data": {
            "text/plain": [
              "Pipeline(steps=[('tfidf', TfidfVectorizer(max_features=1000)),\n",
              "                ('NAIVE BAYES MODEL', MultinomialNB())])"
            ]
          },
          "metadata": {},
          "execution_count": 59
        }
      ]
    },
    {
      "cell_type": "markdown",
      "source": [
        "TESTING WITH A SAMPLE TEXT"
      ],
      "metadata": {
        "id": "Qsxr0ei3X-mb"
      }
    },
    {
      "cell_type": "code",
      "source": [
        "sample_text=[\"@pradeep : A feminist is an advocacy of the political, economic, and social equality of the sexes expressed especially through organized activity on behalf of women's rights and interests\"]"
      ],
      "metadata": {
        "id": "PhcFDR0mXN-E"
      },
      "execution_count": 60,
      "outputs": []
    },
    {
      "cell_type": "markdown",
      "source": [
        "PREDICTION"
      ],
      "metadata": {
        "id": "tL1nyRnAkJAF"
      }
    },
    {
      "cell_type": "code",
      "source": [
        "pipe.predict(sample_text)"
      ],
      "metadata": {
        "colab": {
          "base_uri": "https://localhost:8080/"
        },
        "id": "y72UT6ZYXOAj",
        "outputId": "ff524ba9-96e7-48fd-db3f-465aee65638e"
      },
      "execution_count": 61,
      "outputs": [
        {
          "output_type": "execute_result",
          "data": {
            "text/plain": [
              "array(['gender'], dtype='<U19')"
            ]
          },
          "metadata": {},
          "execution_count": 61
        }
      ]
    },
    {
      "cell_type": "markdown",
      "source": [
        "SAVING THE MODEL"
      ],
      "metadata": {
        "id": "xopBnT9jYu_X"
      }
    },
    {
      "cell_type": "code",
      "source": [
        "import pickle\n",
        "pickle.dump(Naive_bayes_model, open('Bullying_classification_NB-model', 'wb'))"
      ],
      "metadata": {
        "id": "8e7MuHtVXOC5"
      },
      "execution_count": 42,
      "outputs": []
    }
  ],
  "metadata": {
    "colab": {
      "provenance": [],
      "mount_file_id": "16e1-lOda8nOjB3L6FUdlEGefRJNIkQVr",
      "authorship_tag": "ABX9TyNWYyraLj/9eRGqGsqi24EY",
      "include_colab_link": true
    },
    "kernelspec": {
      "display_name": "Python 3",
      "name": "python3"
    },
    "language_info": {
      "name": "python"
    }
  },
  "nbformat": 4,
  "nbformat_minor": 0
}